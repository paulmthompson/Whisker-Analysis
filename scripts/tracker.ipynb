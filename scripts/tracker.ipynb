{
 "cells": [
  {
   "cell_type": "code",
   "execution_count": null,
   "id": "initial_id",
   "metadata": {
    "collapsed": true
   },
   "outputs": [],
   "source": [
    "import sys\n",
    "\n",
    "sys.path.append('C:/Users/wanglab/Documents/Whisker-Analysis/out/build/MSVC/Release')\n",
    "#sys.path.append('../out/build/MSVC/Release')"
   ]
  },
  {
   "cell_type": "code",
   "execution_count": null,
   "id": "928040247b599c77",
   "metadata": {
    "ExecuteTime": {
     "end_time": "2024-06-26T17:48:43.873110Z",
     "start_time": "2024-06-26T17:48:42.864127Z"
    }
   },
   "outputs": [],
   "source": [
    "import cv2\n",
    "import numpy as np\n",
    "import matplotlib.pyplot as plt\n",
    "\n",
    "import whiskertracker\n",
    "\n",
    "# Create an instance of WhiskerTracker\n",
    "wt = whiskertracker.WhiskerTracker()\n",
    "\n",
    "wt.setWhiskerPad(582, 267)\n",
    "\n",
    "img = cv2.imread('C:/Users/wanglab/Desktop/img0011018.png')\n",
    "\n",
    "if len(img.shape) > 2:\n",
    "    img = cv2.cvtColor(img, cv2.COLOR_BGR2GRAY)\n",
    "\n",
    "# Flatten the image and convert it to a list of uint8_t\n",
    "image_data = img.flatten().tolist()\n",
    "\n",
    "wt.trace(image_data,480,640)"
   ]
  },
  {
   "cell_type": "code",
   "execution_count": null,
   "id": "efbcdf66",
   "metadata": {},
   "outputs": [],
   "source": [
    "wt.trace(image_data,480,640)\n",
    "w0 = wt.getWhiskers()"
   ]
  },
  {
   "cell_type": "code",
   "execution_count": null,
   "id": "bdc9dc60",
   "metadata": {},
   "outputs": [],
   "source": [
    "%timeit wt.trace(image_data,480,640)"
   ]
  },
  {
   "cell_type": "code",
   "execution_count": null,
   "id": "102a7442",
   "metadata": {},
   "outputs": [],
   "source": [
    "for i in range(0,len(w0)):\n",
    "    ww = np.reshape(w0[i],(-1,2))\n",
    "    plt.plot(ww[:,0],ww[:,1])\n",
    "plt.xlim(0,640)\n",
    "plt.ylim(0,480)"
   ]
  }
 ],
 "metadata": {
  "kernelspec": {
   "display_name": "Python 3",
   "language": "python",
   "name": "python3"
  },
  "language_info": {
   "codemirror_mode": {
    "name": "ipython",
    "version": 3
   },
   "file_extension": ".py",
   "mimetype": "text/x-python",
   "name": "python",
   "nbconvert_exporter": "python",
   "pygments_lexer": "ipython3",
   "version": "3.10.14"
  }
 },
 "nbformat": 4,
 "nbformat_minor": 5
}
